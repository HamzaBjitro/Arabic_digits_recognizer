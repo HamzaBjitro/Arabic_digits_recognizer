{
 "cells": [
  {
   "cell_type": "markdown",
   "metadata": {},
   "source": [
    "# Arabic digits recognition using a 4-Layers Neural Network:#\n",
    "(from Scratch_without using any lib)"
   ]
  },
  {
   "cell_type": "markdown",
   "metadata": {},
   "source": [
    "**Importing Packages:**"
   ]
  },
  {
   "cell_type": "code",
   "execution_count": null,
   "metadata": {},
   "outputs": [],
   "source": [
    "import numpy as np\n",
    "import matplotlib.pyplot as plt\n",
    "from keras.utils import to_categorical\n",
    "import pandas as pd"
   ]
  },
  {
   "cell_type": "markdown",
   "metadata": {},
   "source": [
    "**Dataset:**"
   ]
  },
  {
   "cell_type": "markdown",
   "metadata": {},
   "source": [
    "We will use the DataSet [ADBase](http://datacenter.aucegypt.edu/shazeem/).\n",
    "It contains 60,000 training images, and 10,000 test image.With every image was originally 28*28px but flattened to 784 elements vectors."
   ]
  },
  {
   "cell_type": "code",
   "execution_count": 3,
   "metadata": {},
   "outputs": [
    {
     "name": "stdout",
     "output_type": "stream",
     "text": [
      "data_loaded\n"
     ]
    }
   ],
   "source": [
    "X_train = pd.read_csv(\"./csvTrainImages 60k x 784.csv\",header=None)\n",
    "Y_train= pd.read_csv(\"./csvTrainLabel 60k x 1.csv\",header=None)\n",
    "X_test = pd.read_csv(\"./csvTestImages 10k x 784.csv\",header=None)\n",
    "Y_test = pd.read_csv(\"./csvTestLabel 10k x 1.csv\",header=None)\n",
    "print(\"data_loaded\")"
   ]
  },
  {
   "cell_type": "code",
   "execution_count": 4,
   "metadata": {},
   "outputs": [
    {
     "name": "stdout",
     "output_type": "stream",
     "text": [
      "(60000, 784)\n",
      "(10000, 784)\n",
      "(60000, 1)\n",
      "(10000, 1)\n"
     ]
    }
   ],
   "source": [
    "print(X_train.shape)\n",
    "print(X_test.shape)\n",
    "print(Y_train.shape)\n",
    "print(Y_test.shape)"
   ]
  },
  {
   "cell_type": "code",
   "execution_count": 5,
   "metadata": {},
   "outputs": [
    {
     "name": "stdout",
     "output_type": "stream",
     "text": [
      "       0\n",
      "0      0\n",
      "1      1\n",
      "2      2\n",
      "3      3\n",
      "4      4\n",
      "...   ..\n",
      "59995  5\n",
      "59996  6\n",
      "59997  7\n",
      "59998  8\n",
      "59999  9\n",
      "\n",
      "[60000 rows x 1 columns]\n"
     ]
    }
   ],
   "source": [
    "print(Y_train)"
   ]
  },
  {
   "cell_type": "markdown",
   "metadata": {},
   "source": [
    "**One Hot encoding of test labels:**"
   ]
  },
  {
   "cell_type": "code",
   "execution_count": 6,
   "metadata": {},
   "outputs": [],
   "source": [
    "Y_train = to_categorical(Y_train,10)\n",
    "Y_test = to_categorical(Y_test,10)"
   ]
  },
  {
   "cell_type": "markdown",
   "metadata": {},
   "source": [
    "**Standardize data to have feature values between 0 and 1:**"
   ]
  },
  {
   "cell_type": "code",
   "execution_count": 7,
   "metadata": {},
   "outputs": [],
   "source": [
    "X_train=X_train/255\n",
    "X_test= X_test/255"
   ]
  },
  {
   "cell_type": "code",
   "execution_count": 8,
   "metadata": {},
   "outputs": [],
   "source": [
    "X_train=X_train.T\n",
    "Y_train=Y_train.T\n",
    "X_test=X_test.T\n",
    "Y_test=Y_test.T"
   ]
  },
  {
   "cell_type": "markdown",
   "metadata": {},
   "source": [
    "**Visualize a random image:**"
   ]
  },
  {
   "cell_type": "code",
   "execution_count": 10,
   "metadata": {},
   "outputs": [
    {
     "data": {
      "text/plain": [
       "<matplotlib.image.AxesImage at 0x7f6920b8d550>"
      ]
     },
     "execution_count": 10,
     "metadata": {},
     "output_type": "execute_result"
    },
    {
     "data": {
      "image/png": "[encoded data removed]",
      "text/plain": [
       "<Figure size 432x288 with 1 Axes>"
      ]
     },
     "metadata": {
      "needs_background": "light"
     },
     "output_type": "display_data"
    }
   ],
   "source": [
    "Y=X_train[np.random.randint(10000, size=1)]\n",
    "Y_img=np.array(Y)*255\n",
    "Y_img=Y_img.reshape(28,28).T\n",
    "plt.imshow(Y_img)"
   ]
  },
  {
   "cell_type": "markdown",
   "metadata": {},
   "source": [
    "# The Architecture and the implementation of our neural network:#"
   ]
  },
  {
   "cell_type": "markdown",
   "metadata": {},
   "source": [
    "![title](https://www.researchgate.net/profile/Facundo_Bre/publication/321259051/figure/fig1/AS:614329250496529@1523478915726/Artificial-neural-network-architecture-ANN-i-h-1-h-2-h-n-o.png)"
   ]
  },
  {
   "cell_type": "markdown",
   "metadata": {},
   "source": [
    "We will use a 4-layers neural network in which the hidden layers contain 50 units.For the choice of the number of units in hidden layers we used the formula in [this](https://stats.stackexchange.com/questions/181/how-to-choose-the-number-of-hidden-layers-and-nodes-in-a-feedforward-neural-netw) site"
   ]
  },
  {
   "cell_type": "markdown",
   "metadata": {},
   "source": [
    "**Defining the Activation funcions:**"
   ]
  },
  {
   "cell_type": "markdown",
   "metadata": {},
   "source": [
    "We will use the \"Relu\" in the hidden layers and the \"Softmax\" in the output layer(because we have a multi-class classification), and the \"drelu\" in the backward propagation."
   ]
  },
  {
   "cell_type": "code",
   "execution_count": 11,
   "metadata": {},
   "outputs": [],
   "source": [
    "def relu(p):\n",
    "    return(np.maximum(0, p))\n",
    "\n",
    "def softmax(u):\n",
    "    return np.exp(u) / np.sum(np.exp(u), axis=0, keepdims=True)\n",
    "\n",
    "def drelu(x):\n",
    "    x[x <= 0] = 0\n",
    "    x[x > 0] = 1\n",
    "    return x"
   ]
  },
  {
   "cell_type": "markdown",
   "metadata": {},
   "source": [
    "**Initialization:**"
   ]
  },
  {
   "cell_type": "markdown",
   "metadata": {},
   "source": [
    "We initialized the weights using the He initialization and b to zero.![title](https://miro.medium.com/max/181/1*r1xULrvfItQ_Pt7RAH226A.png)"
   ]
  },
  {
   "cell_type": "code",
   "execution_count": 12,
   "metadata": {},
   "outputs": [],
   "source": [
    "parameters = {}\n",
    "def initialize_parameters(layer_dims):\n",
    "    L = len(layer_dims)\n",
    "    for l in range(1, L):\n",
    "        parameters[\"W\" + str(l)] = np.random.randn(layer_dims[l],layer_dims[l-1])*(np.sqrt(2/ layer_dims[l - 1]))\n",
    "        parameters[\"b\" + str(l)] = np.zeros((layer_dims[l], 1))\n",
    "    return parameters"
   ]
  },
  {
   "cell_type": "markdown",
   "metadata": {},
   "source": [
    "# Forward and Backward Propagation:#"
   ]
  },
  {
   "cell_type": "markdown",
   "metadata": {},
   "source": [
    "![title](https://qph.fs.quoracdn.net/main-qimg-e599270915026aeb9b5e47cb95e8097c)"
   ]
  },
  {
   "cell_type": "markdown",
   "metadata": {},
   "source": [
    "**Forward Propagation:**"
   ]
  },
  {
   "cell_type": "markdown",
   "metadata": {},
   "source": [
    "![title](https://cdn-images-1.medium.com/max/1000/1*hCNyCi1K8YJ3P0fB2P7jUA.png)"
   ]
  },
  {
   "cell_type": "code",
   "execution_count": 31,
   "metadata": {},
   "outputs": [],
   "source": [
    "outputs = {}\n",
    "activation = {}\n",
    "m = X_train.shape[1]\n",
    "def forward_prop(parameters, X_train, activation):\n",
    "    outputs[\"Z\" + str(1)] = np.dot(parameters[\"W1\"], X_train) + parameters[\"b1\"]\n",
    "    activation[\"A\" + str(1)] = relu(outputs[\"Z\" + str(1)])\n",
    "    for l in range(2, 4):\n",
    "        outputs[\"Z\" + str(l)] = np.dot(parameters[\"W\" + str(l)], activation[\"A\" + str(l - 1)]) + parameters[\"b\" + str(l)]\n",
    "        activation[\"A\" + str(l)] = relu(outputs[\"Z\" + str(l)])\n",
    "    outputs[\"Z4\"] = np.dot(parameters[\"W4\"], activation[\"A3\"]) + parameters[\"b4\"]\n",
    "    activation[\"A4\"] = softmax(outputs[\"Z4\"])\n",
    "    return outputs, activation"
   ]
  },
  {
   "cell_type": "markdown",
   "metadata": {},
   "source": [
    "**Compute Cost:**"
   ]
  },
  {
   "cell_type": "code",
   "execution_count": 32,
   "metadata": {},
   "outputs": [],
   "source": [
    "def compute_cost(activation):\n",
    "    loss = - np.sum((Y_train * np.log(activation[\"A4\"])), axis=0, keepdims=True)\n",
    "    cost = np.sum(loss, axis=1)/m\n",
    "    return cost"
   ]
  },
  {
   "cell_type": "markdown",
   "metadata": {},
   "source": [
    "**Compute the gradients of the Loss:**"
   ]
  },
  {
   "cell_type": "markdown",
   "metadata": {},
   "source": [
    "![title](https://render.githubusercontent.com/render/math?math=dW%5E%7B%5Bl%5D%7D%20%3D%20%5Cfrac%7B%5Cpartial%20%5Cmathcal%7BL%7D%20%7D%7B%5Cpartial%20W%5E%7B%5Bl%5D%7D%7D%20%3D%20%5Cfrac%7B1%7D%7Bm%7D%20dZ%5E%7B%5Bl%5D%7D%20A%5E%7B%5Bl-1%5D%20T%7D%20%5Ctag%7B8%7D&mode=display)\n",
    "![title](https://render.githubusercontent.com/render/math?math=db%5E%7B%5Bl%5D%7D%20%3D%20%5Cfrac%7B%5Cpartial%20%5Cmathcal%7BL%7D%20%7D%7B%5Cpartial%20b%5E%7B%5Bl%5D%7D%7D%20%3D%20%5Cfrac%7B1%7D%7Bm%7D%20%5Csum_%7Bi%20%3D%201%7D%5E%7Bm%7D%20dZ%5E%7B%5Bl%5D%28i%29%7D%5Ctag%7B9%7D&mode=display)\n",
    "![title](https://render.githubusercontent.com/render/math?math=dA%5E%7B%5Bl-1%5D%7D%20%3D%20%5Cfrac%7B%5Cpartial%20%5Cmathcal%7BL%7D%20%7D%7B%5Cpartial%20A%5E%7B%5Bl-1%5D%7D%7D%20%3D%20W%5E%7B%5Bl%5D%20T%7D%20dZ%5E%7B%5Bl%5D%7D%20%5Ctag%7B10%7D&mode=display)"
   ]
  },
  {
   "cell_type": "code",
   "execution_count": 41,
   "metadata": {},
   "outputs": [],
   "source": [
    "grad_reg={}\n",
    "def grad_re(parameters, outputs, activation):\n",
    "    grad_reg[\"dZ4\"] = (activation[\"A4\"] - Y_train) / m\n",
    "    for l in range(1, 4):\n",
    "        grad_reg[\"dA\" + str(4 - l)] = np.dot(parameters[\"W\" + str(4 - l + 1)].T, grad_reg[\"dZ\" + str(4 - l + 1)])\n",
    "        grad_reg[\"dZ\" + str(4 - l)] = grad_reg[\"dA\" + str(4 - l)] * drelu(outputs[\"Z\" + str(4 - l)])\n",
    "    grad_reg[\"dW1\"] = np.dot(grad_reg[\"dZ1\"], X_train.T)\n",
    "    grad_reg[\"db1\"] = np.sum(grad_reg[\"dZ1\"], axis=1, keepdims=True)\n",
    "    for l in range(2, 5):\n",
    "        grad_reg[\"dW\" + str(l)] = np.dot(grad_reg[\"dZ\" + str(l)], activation[\"A\" + str(l - 1)].T)\n",
    "        grad_reg[\"db\" + str(l)] = np.sum(grad_reg[\"dZ\" + str(l)], axis=1, keepdims=True)\n",
    "    return parameters, outputs, activation, grad_reg"
   ]
  },
  {
   "cell_type": "markdown",
   "metadata": {},
   "source": [
    "**Update the parameters:**"
   ]
  },
  {
   "cell_type": "markdown",
   "metadata": {},
   "source": [
    "![title](https://render.githubusercontent.com/render/math?math=W%5E%7B%5Bl%5D%7D%20%3D%20W%5E%7B%5Bl%5D%7D%20-%20%5Calpha%20%5Ctext%7B%20%7D%20dW%5E%7B%5Bl%5D%7D%20%5Ctag%7B16%7D%24%24%24%24%20b%5E%7B%5Bl%5D%7D%20%3D%20b%5E%7B%5Bl%5D%7D%20-%20%5Calpha%20%5Ctext%7B%20%7D%20db%5E%7B%5Bl%5D%7D%20%5Ctag%7B17%7D&mode=display)"
   ]
  },
  {
   "cell_type": "code",
   "execution_count": 42,
   "metadata": {},
   "outputs": [],
   "source": [
    "def learning(grad_reg, learning_rate=0.005):\n",
    "    for i in range(1, 5):\n",
    "        parameters[\"W\" + str(i)] = parameters[\"W\" + str(i)] - (learning_rate * grad_reg[\"dW\" + str(i)])\n",
    "        parameters[\"b\" + str(i)] = parameters[\"b\" + str(i)] - (learning_rate * grad_reg[\"db\" + str(i)])\n",
    "    return parameters"
   ]
  },
  {
   "cell_type": "markdown",
   "metadata": {},
   "source": [
    "**Prediction:**"
   ]
  },
  {
   "cell_type": "code",
   "execution_count": 43,
   "metadata": {},
   "outputs": [],
   "source": [
    "def predict(parameters, X_test):\n",
    "    forward_prop(parameters, X_test, activation)\n",
    "    predictions = np.round(activation[\"A4\"])\n",
    "    return predictions"
   ]
  },
  {
   "cell_type": "markdown",
   "metadata": {},
   "source": [
    "**Gradient Descent:**"
   ]
  },
  {
   "cell_type": "code",
   "execution_count": 44,
   "metadata": {},
   "outputs": [],
   "source": [
    "def grad_descent(num_iterations, costs, activation,print_cost = True):\n",
    "    initialize_parameters(dims)\n",
    "    for l in range(0, num_iterations):\n",
    "        forward_prop(parameters, X_train, activation)\n",
    "        cost = compute_cost(activation)\n",
    "        grad_re(parameters, outputs, activation)\n",
    "        learning(grad_reg, learning_rate=0.005)\n",
    "        if l % 100 == 0:\n",
    "            costs.append(cost)\n",
    "        if print_cost and l % 100 == 0:\n",
    "            print(\"Cost after iteration %i: %f\" % (l, cost))\n",
    "    return costs, parameters"
   ]
  },
  {
   "cell_type": "markdown",
   "metadata": {},
   "source": [
    "**Exécution:**"
   ]
  },
  {
   "cell_type": "code",
   "execution_count": 45,
   "metadata": {},
   "outputs": [],
   "source": [
    "dims=[X_train.shape[0], 50, 50, 50, 10]"
   ]
  },
  {
   "cell_type": "code",
   "execution_count": 46,
   "metadata": {},
   "outputs": [],
   "source": [
    "num_iterations = 1300\n",
    "costs = []"
   ]
  },
  {
   "cell_type": "code",
   "execution_count": 47,
   "metadata": {},
   "outputs": [
    {
     "name": "stdout",
     "output_type": "stream",
     "text": [
      "Cost after iteration 0: 2.331194\n",
      "Cost after iteration 100: 2.020938\n",
      "Cost after iteration 200: 1.651200\n",
      "Cost after iteration 300: 1.234961\n",
      "Cost after iteration 400: 0.888801\n",
      "Cost after iteration 500: 0.659208\n",
      "Cost after iteration 600: 0.522293\n",
      "Cost after iteration 700: 0.436890\n",
      "Cost after iteration 800: 0.379667\n",
      "Cost after iteration 900: 0.338829\n",
      "Cost after iteration 1000: 0.308224\n",
      "Cost after iteration 1100: 0.284387\n",
      "Cost after iteration 1200: 0.265246\n"
     ]
    }
   ],
   "source": [
    "grad_descent(num_iterations, costs, activation)\n",
    "predictions = predict(parameters, X_test)"
   ]
  },
  {
   "cell_type": "code",
   "execution_count": 48,
   "metadata": {},
   "outputs": [
    {
     "data": {
      "image/png": "[encoded data removed]",
      "text/plain": [
       "<Figure size 432x288 with 1 Axes>"
      ]
     },
     "metadata": {
      "needs_background": "light"
     },
     "output_type": "display_data"
    }
   ],
   "source": [
    "plt.plot(costs)\n",
    "plt.xlabel('iterations')\n",
    "plt.ylabel('cost')\n",
    "plt.show()   "
   ]
  },
  {
   "cell_type": "code",
   "execution_count": 49,
   "metadata": {},
   "outputs": [
    {
     "name": "stdout",
     "output_type": "stream",
     "text": [
      "test accuracy: 98.441 %\n"
     ]
    }
   ],
   "source": [
    "print(\"test accuracy: {} %\".format(100 - np.mean(np.abs(predictions - Y_test)) * 100))"
   ]
  },
  {
   "cell_type": "code",
   "execution_count": 84,
   "metadata": {},
   "outputs": [
    {
     "name": "stdout",
     "output_type": "stream",
     "text": [
      "3\n"
     ]
    },
    {
     "data": {
      "image/png": "[encoded data removed]",
      "text/plain": [
       "<Figure size 432x288 with 1 Axes>"
      ]
     },
     "metadata": {
      "needs_background": "light"
     },
     "output_type": "display_data"
    }
   ],
   "source": [
    "Y=X_test[np.random.randint(10000, size=1)]\n",
    "Y_img=np.array(Y)*255\n",
    "Y_img=Y_img.reshape(28,28).T\n",
    "plt.imshow(Y_img)\n",
    "exp=np.where(predict(parameters,np.array(Y).reshape(784,1))==1)\n",
    "print(int(exp[0]))"
   ]
  }
 ],
 "metadata": {
  "kernelspec": {
   "display_name": "azureml_py36_tensorflow",
   "language": "python",
   "name": "conda-env-azureml_py36_tensorflow-py"
  },
  "language_info": {
   "codemirror_mode": {
    "name": "ipython",
    "version": 3
   },
   "file_extension": ".py",
   "mimetype": "text/x-python",
   "name": "python",
   "nbconvert_exporter": "python",
   "pygments_lexer": "ipython3",
   "version": "3.6.9"
  }
 },
 "nbformat": 4,
 "nbformat_minor": 4
}
